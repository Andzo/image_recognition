{
 "cells": [
  {
   "cell_type": "code",
   "execution_count": 4,
   "metadata": {},
   "outputs": [],
   "source": [
    "import torch, torchvision\n",
    "from torch import nn\n",
    "import torch.nn.functional as F\n",
    "from torch import optim\n",
    "from torchvision import datasets, transforms\n",
    "import pandas as pd\n",
    "import numpy as np\n",
    "import matplotlib.pyplot as plt"
   ]
  },
  {
   "cell_type": "code",
   "execution_count": 2,
   "metadata": {},
   "outputs": [],
   "source": [
    "# Define a transform to normalize the data\n",
    "transform = transforms.Compose([transforms.ToTensor(),\n",
    "                                transforms.Normalize((0.5,), (0.5,)),\n",
    "                              ])\n",
    "# Download and load the training data\n",
    "trainset = datasets.MNIST('~/.pytorch/MNIST_data/', download=True, train=True, transform=transform)\n",
    "trainloader = torch.utils.data.DataLoader(trainset, batch_size=64, shuffle=True)\n",
    "\n",
    "# Download and load the test data\n",
    "testset = datasets.MNIST('MNIST_data/', download=True, train=False, transform=transform)\n",
    "testloader = torch.utils.data.DataLoader(testset, batch_size=64, shuffle=True)"
   ]
  },
  {
   "cell_type": "code",
   "execution_count": 3,
   "metadata": {},
   "outputs": [],
   "source": [
    "class Network(nn.Module):\n",
    "    \n",
    "    def __init__(self, input_size, output_size, hidden_layers, drop_p=0.05):\n",
    "        ''' Builds a feedforward network with arbitrary hidden layers.\n",
    "        \n",
    "            Arguments\n",
    "            ---------\n",
    "            input_size: integer, size of input\n",
    "            output_size: integer, size of output layer\n",
    "            hidden_layers: list of integers, the sizes of the hidden layers\n",
    "            drop_p: float between 0 and 1, dropout probability\n",
    "        '''\n",
    "        \n",
    "        super().__init__()\n",
    "        # Add the first layer, input to a hidden layer\n",
    "        self.hidden_layers = nn.ModuleList([nn.Linear(input_size, hidden_layers[0])])\n",
    "        \n",
    "        # Add a variable number of more hidden layers\n",
    "        layer_sizes = zip(hidden_layers[:-1], hidden_layers[1:])\n",
    "        self.hidden_layers.extend([nn.Linear(h1, h2) for h1, h2 in layer_sizes])\n",
    "        \n",
    "        self.output = nn.Linear(hidden_layers[-1], output_size)\n",
    "        \n",
    "        self.dropout = nn.Dropout(p=drop_p)\n",
    "    \n",
    "    \n",
    "    def forward(self, x):\n",
    "        ''' Forward pass through the network, returns the output logits'''\n",
    "        \n",
    "        # Forwardc through each layer in `hidden_layers`, with ReLU activation and dropout\n",
    "        for linear in self.hidden_layers:\n",
    "            x = F.relu(linear(x))\n",
    "            x.dropout = self.dropout(x)\n",
    "        \n",
    "        x = self.output(x)\n",
    "        \n",
    "        return F.log_softmax(x, dim=1)"
   ]
  },
  {
   "cell_type": "code",
   "execution_count": 5,
   "metadata": {},
   "outputs": [],
   "source": [
    "# create tghe network, define the criterion and optimizer\n",
    "model = Network(input_size=784, output_size=10, hidden_layers=[516, 256])\n",
    "criterion = nn.NLLLoss()\n",
    "optimizer = optim.Adam(model.parameters(), lr=0.001)"
   ]
  },
  {
   "cell_type": "code",
   "execution_count": 6,
   "metadata": {},
   "outputs": [],
   "source": [
    "# The validation function\n",
    "def validation(model, testloader, criterion):\n",
    "    test_loss = 0\n",
    "    accuracy = 0\n",
    "    for images, labels in testloader:\n",
    "        images.resize_(images.shape[0], 784)\n",
    "        output = model.forward(images)\n",
    "        test_loss += criterion(output, labels).item()\n",
    "        ps = torch.exp(output)\n",
    "        equality = (labels.data == ps.max(dim=1)[1])\n",
    "        accuracy += equality.type(torch.FloatTensor).mean()\n",
    "        \n",
    "    return test_loss, accuracy"
   ]
  },
  {
   "cell_type": "markdown",
   "metadata": {},
   "source": [
    "#### Training the model"
   ]
  },
  {
   "cell_type": "code",
   "execution_count": 7,
   "metadata": {},
   "outputs": [
    {
     "name": "stdout",
     "output_type": "stream",
     "text": [
      "Epochs: 1/2.. Training Loss: 1.1600.. Test Loss: 0.5571.. Test Accuracy: 0.8182\n",
      "Epochs: 1/2.. Training Loss: 0.5355.. Test Loss: 0.4948.. Test Accuracy: 0.8522\n",
      "Epochs: 1/2.. Training Loss: 0.4106.. Test Loss: 0.3801.. Test Accuracy: 0.8800\n",
      "Epochs: 1/2.. Training Loss: 0.3936.. Test Loss: 0.3425.. Test Accuracy: 0.9013\n",
      "Epochs: 1/2.. Training Loss: 0.3342.. Test Loss: 0.3096.. Test Accuracy: 0.9052\n",
      "Epochs: 1/2.. Training Loss: 0.3255.. Test Loss: 0.3038.. Test Accuracy: 0.9069\n",
      "Epochs: 1/2.. Training Loss: 0.3039.. Test Loss: 0.2811.. Test Accuracy: 0.9138\n",
      "Epochs: 1/2.. Training Loss: 0.3291.. Test Loss: 0.3041.. Test Accuracy: 0.8993\n",
      "Epochs: 1/2.. Training Loss: 0.2906.. Test Loss: 0.2412.. Test Accuracy: 0.9258\n",
      "Epochs: 1/2.. Training Loss: 0.2490.. Test Loss: 0.2378.. Test Accuracy: 0.9299\n",
      "Epochs: 1/2.. Training Loss: 0.2268.. Test Loss: 0.2249.. Test Accuracy: 0.9335\n",
      "Epochs: 1/2.. Training Loss: 0.2542.. Test Loss: 0.2292.. Test Accuracy: 0.9280\n",
      "Epochs: 1/2.. Training Loss: 0.2629.. Test Loss: 0.1985.. Test Accuracy: 0.9383\n",
      "Epochs: 1/2.. Training Loss: 0.1956.. Test Loss: 0.1920.. Test Accuracy: 0.9404\n",
      "Epochs: 1/2.. Training Loss: 0.2211.. Test Loss: 0.2227.. Test Accuracy: 0.9319\n",
      "Epochs: 1/2.. Training Loss: 0.2390.. Test Loss: 0.2212.. Test Accuracy: 0.9260\n",
      "Epochs: 1/2.. Training Loss: 0.2097.. Test Loss: 0.1761.. Test Accuracy: 0.9418\n",
      "Epochs: 1/2.. Training Loss: 0.1874.. Test Loss: 0.1849.. Test Accuracy: 0.9411\n",
      "Epochs: 1/2.. Training Loss: 0.1804.. Test Loss: 0.1897.. Test Accuracy: 0.9434\n",
      "Epochs: 1/2.. Training Loss: 0.1669.. Test Loss: 0.1614.. Test Accuracy: 0.9512\n",
      "Epochs: 1/2.. Training Loss: 0.1733.. Test Loss: 0.1644.. Test Accuracy: 0.9483\n",
      "Epochs: 1/2.. Training Loss: 0.1888.. Test Loss: 0.1637.. Test Accuracy: 0.9474\n",
      "Epochs: 1/2.. Training Loss: 0.1705.. Test Loss: 0.1488.. Test Accuracy: 0.9536\n",
      "Epochs: 2/2.. Training Loss: 0.1877.. Test Loss: 0.1670.. Test Accuracy: 0.9471\n",
      "Epochs: 2/2.. Training Loss: 0.1518.. Test Loss: 0.1708.. Test Accuracy: 0.9460\n",
      "Epochs: 2/2.. Training Loss: 0.1536.. Test Loss: 0.1475.. Test Accuracy: 0.9551\n",
      "Epochs: 2/2.. Training Loss: 0.1484.. Test Loss: 0.1745.. Test Accuracy: 0.9436\n",
      "Epochs: 2/2.. Training Loss: 0.1724.. Test Loss: 0.1419.. Test Accuracy: 0.9549\n",
      "Epochs: 2/2.. Training Loss: 0.1425.. Test Loss: 0.1377.. Test Accuracy: 0.9554\n",
      "Epochs: 2/2.. Training Loss: 0.1600.. Test Loss: 0.1438.. Test Accuracy: 0.9565\n",
      "Epochs: 2/2.. Training Loss: 0.1388.. Test Loss: 0.1420.. Test Accuracy: 0.9558\n",
      "Epochs: 2/2.. Training Loss: 0.1164.. Test Loss: 0.1220.. Test Accuracy: 0.9604\n",
      "Epochs: 2/2.. Training Loss: 0.1359.. Test Loss: 0.1371.. Test Accuracy: 0.9561\n",
      "Epochs: 2/2.. Training Loss: 0.1311.. Test Loss: 0.1299.. Test Accuracy: 0.9589\n",
      "Epochs: 2/2.. Training Loss: 0.1369.. Test Loss: 0.1233.. Test Accuracy: 0.9589\n",
      "Epochs: 2/2.. Training Loss: 0.1328.. Test Loss: 0.1410.. Test Accuracy: 0.9554\n",
      "Epochs: 2/2.. Training Loss: 0.1287.. Test Loss: 0.1524.. Test Accuracy: 0.9554\n",
      "Epochs: 2/2.. Training Loss: 0.1412.. Test Loss: 0.1441.. Test Accuracy: 0.9534\n",
      "Epochs: 2/2.. Training Loss: 0.1344.. Test Loss: 0.1241.. Test Accuracy: 0.9613\n",
      "Epochs: 2/2.. Training Loss: 0.1434.. Test Loss: 0.1356.. Test Accuracy: 0.9561\n",
      "Epochs: 2/2.. Training Loss: 0.1433.. Test Loss: 0.1481.. Test Accuracy: 0.9545\n",
      "Epochs: 2/2.. Training Loss: 0.1300.. Test Loss: 0.1644.. Test Accuracy: 0.9472\n",
      "Epochs: 2/2.. Training Loss: 0.1412.. Test Loss: 0.1369.. Test Accuracy: 0.9588\n",
      "Epochs: 2/2.. Training Loss: 0.1174.. Test Loss: 0.1490.. Test Accuracy: 0.9533\n",
      "Epochs: 2/2.. Training Loss: 0.1214.. Test Loss: 0.1048.. Test Accuracy: 0.9668\n",
      "Epochs: 2/2.. Training Loss: 0.0990.. Test Loss: 0.1255.. Test Accuracy: 0.9571\n"
     ]
    }
   ],
   "source": [
    "epochs = 2\n",
    "steps = 0\n",
    "running_loss = 0\n",
    "print_every = 40\n",
    "for e in range(epochs):\n",
    "    model.train()\n",
    "    for images, labels in trainloader:\n",
    "        steps += 1\n",
    "        # Flatten images into a 784 long vector\n",
    "        images.resize_(images.size()[0], 784)\n",
    "        optimizer.zero_grad()\n",
    "        output = model.forward(images)\n",
    "        loss = criterion(output, labels)\n",
    "        loss.backward()\n",
    "        optimizer.step()\n",
    "        running_loss += loss.item()\n",
    "        if steps % print_every == 0:\n",
    "            model.eval()\n",
    "            with torch.no_grad():\n",
    "                test_loss, accuracy = validation(model, testloader, criterion)\n",
    "            print('Epochs: {}/{}..'.format(e+1, epochs),\n",
    "                  'Training Loss: {:.4f}..'.format(running_loss/print_every),\n",
    "                  'Test Loss: {:.4f}..'.format(test_loss/len(testloader)),\n",
    "                  'Test Accuracy: {:.4f}'.format(accuracy/len(testloader)))\n",
    "            running_loss = 0\n",
    "            model.train()"
   ]
  },
  {
   "cell_type": "markdown",
   "metadata": {},
   "source": [
    "#### Inference"
   ]
  },
  {
   "cell_type": "code",
   "execution_count": 9,
   "metadata": {},
   "outputs": [],
   "source": [
    "def view_classify(img, ps, version=\"MNIST\"):\n",
    "    ''' Function for viewing an image and it's predicted classes.\n",
    "    '''\n",
    "    ps = ps.data.numpy().squeeze()\n",
    "\n",
    "    fig, (ax1, ax2) = plt.subplots(figsize=(6,9), ncols=2)\n",
    "    ax1.imshow(img.resize_(1, 28, 28).numpy().squeeze())\n",
    "    ax1.axis('off')\n",
    "    ax2.barh(np.arange(10), ps)\n",
    "    ax2.set_aspect(0.1)\n",
    "    ax2.set_yticks(np.arange(10))\n",
    "    if version == \"MNIST\":\n",
    "        ax2.set_yticklabels(np.arange(10))\n",
    "    elif version == \"Fashion\":\n",
    "        ax2.set_yticklabels(['T-shirt/top',\n",
    "                            'Trouser',\n",
    "                            'Pullover',\n",
    "                            'Dress',\n",
    "                            'Coat',\n",
    "                            'Sandal',\n",
    "                            'Shirt',\n",
    "                            'Sneaker',\n",
    "                            'Bag',\n",
    "                            'Ankle Boot'], size='small');\n",
    "    ax2.set_title('Class Probability')\n",
    "    ax2.set_xlim(0, 1.1)\n",
    "\n"
   ]
  },
  {
   "cell_type": "code",
   "execution_count": 15,
   "metadata": {},
   "outputs": [
    {
     "data": {
      "image/png": "[encoded data removed]",
      "text/plain": [
       "<Figure size 432x648 with 2 Axes>"
      ]
     },
     "metadata": {},
     "output_type": "display_data"
    }
   ],
   "source": [
    "model.eval()\n",
    "\n",
    "dataiter = iter(testloader)\n",
    "images, labels = dataiter.next()\n",
    "img = images[3]\n",
    "# Convert 2D image to 1D vector\n",
    "img = img.view(1, 784)\n",
    "\n",
    "# Calculate the class probabilities (softmax) for img\n",
    "with torch.no_grad():\n",
    "    output = model.forward(img)\n",
    "\n",
    "ps = torch.exp(output)\n",
    "view_classify(img.view(1, 28, 28), ps, version='MNIST')"
   ]
  },
  {
   "cell_type": "code",
   "execution_count": null,
   "metadata": {},
   "outputs": [],
   "source": []
  }
 ],
 "metadata": {
  "kernelspec": {
   "display_name": "Python 3",
   "language": "python",
   "name": "python3"
  },
  "language_info": {
   "codemirror_mode": {
    "name": "ipython",
    "version": 3
   },
   "file_extension": ".py",
   "mimetype": "text/x-python",
   "name": "python",
   "nbconvert_exporter": "python",
   "pygments_lexer": "ipython3",
   "version": "3.6.6"
  }
 },
 "nbformat": 4,
 "nbformat_minor": 2
}
